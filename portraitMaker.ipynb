{
 "cells": [
  {
   "cell_type": "code",
   "execution_count": null,
   "metadata": {
    "collapsed": true
   },
   "outputs": [],
   "source": [
    "## 1\n",
    "\n",
    "# Draw geometric portraits."
   ]
  },
  {
   "cell_type": "code",
   "execution_count": null,
   "metadata": {
    "collapsed": true
   },
   "outputs": [],
   "source": [
    "## 2\n",
    "\n",
    "# iPython Notebook basics:\n",
    "# to run each cell, [hold shift + press enter]\n",
    "# or click the button to the right of the down arrow (above)\n",
    "\n",
    "# try running this cell using both methods to see which is most comfortable for you\n",
    "# notice a number appear in the [brackets] after running the cell\n",
    "# for longer cells you will see a [*] meaning the cell is still running...\n",
    "# once you see the number, it's done!"
   ]
  },
  {
   "cell_type": "code",
   "execution_count": null,
   "metadata": {
    "collapsed": true
   },
   "outputs": [],
   "source": [
    "## 3\n",
    "\n",
    "# import the turtle module for graphics\n",
    "import turtle"
   ]
  },
  {
   "cell_type": "code",
   "execution_count": null,
   "metadata": {
    "collapsed": true
   },
   "outputs": [],
   "source": [
    "## 4\n",
    "\n",
    "# the Screen() function will prepare a drawing panel\n",
    "screen=turtle.Screen()\n",
    "width=800; height=800         # values in pixels\n",
    "screen.setup(width,height)"
   ]
  },
  {
   "cell_type": "code",
   "execution_count": null,
   "metadata": {
    "collapsed": true
   },
   "outputs": [],
   "source": [
    "## 5\n",
    "\n",
    "# importing your portrait image\n",
    "# type your first name in lowercase between the quotes\n",
    "name = \"\"\n",
    "\n",
    "# open your picture on the screen\n",
    "screen.register_shape(name+\".gif\")\n",
    "turtle.shape(name+\".gif\")\n",
    "\n",
    "# you should find a blank drawing panel behind this notebook"
   ]
  },
  {
   "cell_type": "code",
   "execution_count": null,
   "metadata": {
    "collapsed": true
   },
   "outputs": [],
   "source": [
    "## 6\n",
    "\n",
    "# Below are 2 functions to retrieve the coordinates of your portrait\n",
    "# credit: http://stackoverflow.com/questions/15893236/python-3-0-using-turtle-onclick\n",
    "\n",
    "# click around your portrait on the screen to retrieve the coordinates\n",
    "# once you're done, click the square button on top to interrupt the code\n",
    "# this will yield an error, but don't worry about it!\n",
    "\n",
    "def getPos(x,y):\n",
    "    print(\"turtle.goto(%s,%s) #%s\" % (x,y))\n",
    "    return x, y\n",
    "def main():\n",
    "    turtle.onscreenclick(getPos)\n",
    "    turtle.mainloop()\n",
    "main()"
   ]
  },
  {
   "cell_type": "code",
   "execution_count": null,
   "metadata": {
    "collapsed": true
   },
   "outputs": [],
   "source": [
    "## 7\n",
    "\n",
    "# copy and paste the printed coordinates here\n",
    "# run the cell and watch your portrait being drawn on your screen\n"
   ]
  },
  {
   "cell_type": "code",
   "execution_count": null,
   "metadata": {
    "collapsed": true
   },
   "outputs": [],
   "source": [
    "## 8\n",
    "\n",
    "# changing pen color\n",
    "turtle.color(\"hot pink\")\n",
    "turtle.color(\"white\")\n",
    "turtle.color(\"black\")\n",
    "\n",
    "# check the website below for more colors...\n",
    "# https://www.tcl.tk/man/tcl8.4/TkCmd/colors.htm\n",
    "\n",
    "# adding text\n",
    "fontName=\"\"          # font name\n",
    "size=                # font size\n",
    "text=\"\"              # what do you want to write?\n",
    "[x,y]=[,]            # where do you want to write it?\n",
    "\n",
    "turtle.goto(x,y)\n",
    "turtle.write(text,font=(fontName, size, \"normal\"))"
   ]
  }
 ],
 "metadata": {
  "kernelspec": {
   "display_name": "Python 2",
   "language": "python",
   "name": "python2"
  },
  "language_info": {
   "codemirror_mode": {
    "name": "ipython",
    "version": 2
   },
   "file_extension": ".py",
   "mimetype": "text/x-python",
   "name": "python",
   "nbconvert_exporter": "python",
   "pygments_lexer": "ipython2",
   "version": "2.7.11"
  }
 },
 "nbformat": 4,
 "nbformat_minor": 0
}
